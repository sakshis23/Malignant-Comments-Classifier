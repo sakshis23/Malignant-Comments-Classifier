{
 "cells": [
  {
   "cell_type": "markdown",
   "id": "416b66bb",
   "metadata": {},
   "source": [
    "# Importing required libraries"
   ]
  },
  {
   "cell_type": "code",
   "execution_count": null,
   "id": "b5c6006c",
   "metadata": {},
   "outputs": [],
   "source": [
    "import warnings\n",
    "warnings.filterwarnings('ignore')\n",
    "import pandas as pd\n",
    "import seaborn as sns"
   ]
  },
  {
   "cell_type": "code",
   "execution_count": null,
   "id": "e61844ab",
   "metadata": {},
   "outputs": [],
   "source": [
    "import numpy as np\n",
    "import neattext as nt\n",
    "import neattext.functions as nfx"
   ]
  },
  {
   "cell_type": "code",
   "execution_count": null,
   "id": "1c72eb0b",
   "metadata": {},
   "outputs": [],
   "source": [
    "from sklearn.feature_extraction.text import TfidfVectorizer\n",
    "from sklearn.naive_bayes import MultinomialNB\n",
    "from sklearn.model_selection import train_test_split\n",
    "from sklearn.metrics import accuracy_score, confusion_matrix, classification_report"
   ]
  },
  {
   "cell_type": "code",
   "execution_count": null,
   "id": "793b83e3",
   "metadata": {},
   "outputs": [],
   "source": [
    "from sklearn.multiclass import OneVsRestClassifier\n",
    "from sklearn.svm import SVC"
   ]
  },
  {
   "cell_type": "markdown",
   "id": "75b55dd4",
   "metadata": {},
   "source": [
    "# Loading the Data Set"
   ]
  },
  {
   "cell_type": "code",
   "execution_count": null,
   "id": "a8a3d8b6",
   "metadata": {},
   "outputs": [],
   "source": [
    "df = pd.read_csv('train.csv')  #reading the dataset"
   ]
  },
  {
   "cell_type": "code",
   "execution_count": null,
   "id": "d3cab82a",
   "metadata": {},
   "outputs": [],
   "source": [
    "df.head()"
   ]
  },
  {
   "cell_type": "code",
   "execution_count": null,
   "id": "d06236bc",
   "metadata": {},
   "outputs": [],
   "source": [
    "df['comment_text'].apply(lambda x:nt.TextFrame(x).noise_scan())     #noise present in the comment text"
   ]
  },
  {
   "cell_type": "code",
   "execution_count": null,
   "id": "010ce08d",
   "metadata": {},
   "outputs": [],
   "source": [
    "print(df.isnull().sum())"
   ]
  },
  {
   "cell_type": "code",
   "execution_count": null,
   "id": "c413c4fa",
   "metadata": {},
   "outputs": [],
   "source": [
    "df['comment_text_noise'] = df['comment_text'].apply(lambda x:nt.TextExtractor(x).extract_stopwords())"
   ]
  },
  {
   "cell_type": "code",
   "execution_count": null,
   "id": "b7b40ad1",
   "metadata": {},
   "outputs": [],
   "source": [
    "df['comment_text_noise']   #extracted the stopwords from the comment text"
   ]
  },
  {
   "cell_type": "code",
   "execution_count": null,
   "id": "c92446c1",
   "metadata": {},
   "outputs": [],
   "source": [
    "df['comment_textnew'] = df['comment_text'].apply(nfx.remove_stopwords) #removing stopwords"
   ]
  },
  {
   "cell_type": "code",
   "execution_count": null,
   "id": "c30a46ba",
   "metadata": {},
   "outputs": [],
   "source": [
    "#removing punctuation , special character and urls\n",
    "df['comment_textnew'] = df['comment_textnew'].apply(nfx.remove_punctuations)\n",
    "df['comment_textnew'] = df['comment_textnew'].apply(nfx.remove_special_characters)\n",
    "df['comment_textnew'] = df['comment_textnew'].apply(nfx.remove_phone_numbers)\n",
    "df['comment_textnew'] = df['comment_textnew'].apply(nfx.remove_urls)"
   ]
  },
  {
   "cell_type": "markdown",
   "id": "55d6909c",
   "metadata": {},
   "source": [
    "# Data Analysis"
   ]
  },
  {
   "cell_type": "code",
   "execution_count": null,
   "id": "5cfb5bd0",
   "metadata": {},
   "outputs": [],
   "source": [
    "sns.countplot(df['malignant'])"
   ]
  },
  {
   "cell_type": "code",
   "execution_count": null,
   "id": "faed7489",
   "metadata": {},
   "outputs": [],
   "source": [
    "df['malignant'].value_counts()"
   ]
  },
  {
   "cell_type": "code",
   "execution_count": null,
   "id": "55fc2019",
   "metadata": {},
   "outputs": [],
   "source": [
    "sns.countplot(df['highly_malignant'])"
   ]
  },
  {
   "cell_type": "code",
   "execution_count": null,
   "id": "72a0eaa1",
   "metadata": {},
   "outputs": [],
   "source": [
    "df['highly_malignant'].value_counts()"
   ]
  },
  {
   "cell_type": "code",
   "execution_count": null,
   "id": "6a83300e",
   "metadata": {},
   "outputs": [],
   "source": [
    "sns.countplot(df['rude'])"
   ]
  },
  {
   "cell_type": "code",
   "execution_count": null,
   "id": "9c436139",
   "metadata": {},
   "outputs": [],
   "source": [
    "df['rude'].value_counts()"
   ]
  },
  {
   "cell_type": "code",
   "execution_count": null,
   "id": "80592ef8",
   "metadata": {},
   "outputs": [],
   "source": [
    "sns.countplot(df['threat'])"
   ]
  },
  {
   "cell_type": "code",
   "execution_count": null,
   "id": "ae1ed40c",
   "metadata": {},
   "outputs": [],
   "source": [
    "df['threat'].value_counts()"
   ]
  },
  {
   "cell_type": "code",
   "execution_count": null,
   "id": "7d42a62b",
   "metadata": {},
   "outputs": [],
   "source": [
    "sns.countplot(df['abuse'])"
   ]
  },
  {
   "cell_type": "code",
   "execution_count": null,
   "id": "b6c44679",
   "metadata": {},
   "outputs": [],
   "source": [
    "df['abuse'].value_counts()"
   ]
  },
  {
   "cell_type": "code",
   "execution_count": null,
   "id": "c5a5822c",
   "metadata": {},
   "outputs": [],
   "source": [
    "sns.countplot(df['loathe'])"
   ]
  },
  {
   "cell_type": "code",
   "execution_count": null,
   "id": "08ed27e7",
   "metadata": {},
   "outputs": [],
   "source": [
    "df['loathe'].value_counts()"
   ]
  },
  {
   "cell_type": "markdown",
   "id": "ef370384",
   "metadata": {},
   "source": [
    "#### For each of the label(though it is multi label classification analysing each seperately) Each label is unbalanced and zeros are outnumbered compared to one for each label"
   ]
  },
  {
   "cell_type": "code",
   "execution_count": null,
   "id": "77f321b2",
   "metadata": {},
   "outputs": [],
   "source": [
    "from wordcloud import WordCloud\n",
    "import matplotlib.pyplot as plt"
   ]
  },
  {
   "cell_type": "code",
   "execution_count": null,
   "id": "acb6d07a",
   "metadata": {},
   "outputs": [],
   "source": [
    "loathe = df['comment_text'][df['loathe']==1]\n",
    "\n",
    "loathe_cloud = WordCloud(width=700,height=500,background_color='white',max_words=15).generate(' '.join(loathe))\n",
    "\n",
    "plt.figure(figsize=(10,8),facecolor='r')\n",
    "plt.imshow(loathe_cloud)\n",
    "plt.axis('off')\n",
    "plt.tight_layout(pad=0)\n",
    "plt.show()"
   ]
  },
  {
   "cell_type": "code",
   "execution_count": null,
   "id": "388e9f79",
   "metadata": {},
   "outputs": [],
   "source": [
    "malignant = df['comment_text'][df['malignant']==1]\n",
    "\n",
    "malignant_cloud = WordCloud(width=700,height=500,background_color='white',max_words=15).generate(' '.join(malignant))\n",
    "\n",
    "plt.figure(figsize=(10,8),facecolor='r')\n",
    "plt.imshow(malignant_cloud)\n",
    "plt.axis('off')\n",
    "plt.tight_layout(pad=0)\n",
    "plt.show()"
   ]
  },
  {
   "cell_type": "code",
   "execution_count": null,
   "id": "ef5ddfa5",
   "metadata": {},
   "outputs": [],
   "source": [
    "highly_malig = df['comment_text'][df['highly_malignant']==1]\n",
    "\n",
    "hmali_cloud = WordCloud(width=700,height=500,background_color='white',max_words=15).generate(' '.join(highly_malig))\n",
    "\n",
    "plt.figure(figsize=(10,8),facecolor='r')\n",
    "plt.imshow(hmali_cloud)\n",
    "plt.axis('off')\n",
    "plt.tight_layout(pad=0)\n",
    "plt.show()"
   ]
  },
  {
   "cell_type": "code",
   "execution_count": null,
   "id": "40aab375",
   "metadata": {},
   "outputs": [],
   "source": [
    "threat = df['comment_text'][df['threat']==1]\n",
    "\n",
    "threat_cloud = WordCloud(width=700,height=500,background_color='white',max_words=15).generate(' '.join(threat))\n",
    "\n",
    "plt.figure(figsize=(10,8),facecolor='r')\n",
    "plt.imshow(threat_cloud)\n",
    "plt.axis('off')\n",
    "plt.tight_layout(pad=0)\n",
    "plt.show()"
   ]
  },
  {
   "cell_type": "code",
   "execution_count": null,
   "id": "57ebf2fe",
   "metadata": {},
   "outputs": [],
   "source": [
    "highly_malig = df['comment_text'][df['highly_malignant']==1][df['abuse']==0]\n",
    "\n",
    "hmali_cloud = WordCloud(width=700,height=500,background_color='white',max_words=15).generate(' '.join(highly_malig))\n",
    "\n",
    "plt.figure(figsize=(10,8),facecolor='r')\n",
    "plt.imshow(hmali_cloud)\n",
    "plt.axis('off')\n",
    "plt.tight_layout(pad=0)\n",
    "plt.show()"
   ]
  },
  {
   "cell_type": "code",
   "execution_count": null,
   "id": "8bab9ef2",
   "metadata": {},
   "outputs": [],
   "source": [
    "all_one = df['comment_text'][df['highly_malignant']==1][df['abuse']==1][df['threat']==1][df['rude']==1][df['malignant']==1][df['loathe']==1]\n",
    "\n",
    "all_cloud = WordCloud(width=700,height=500,background_color='white',max_words=15).generate(' '.join(all_one))\n",
    "\n",
    "plt.figure(figsize=(10,8),facecolor='r')\n",
    "plt.imshow(all_cloud)\n",
    "plt.axis('off')\n",
    "plt.tight_layout(pad=0)\n",
    "plt.show()"
   ]
  },
  {
   "cell_type": "code",
   "execution_count": null,
   "id": "a4862eed",
   "metadata": {},
   "outputs": [],
   "source": [
    "rude = df['comment_text'][df['rude']==1]\n",
    "\n",
    "rudecloud = WordCloud(width=700,height=500,background_color='white',max_words=15).generate(' '.join(rude))\n",
    "\n",
    "plt.figure(figsize=(10,8),facecolor='r')\n",
    "plt.imshow(rudecloud)\n",
    "plt.axis('off')\n",
    "plt.tight_layout(pad=0)\n",
    "plt.show()"
   ]
  },
  {
   "cell_type": "markdown",
   "id": "cd5de70e",
   "metadata": {},
   "source": [
    "#### Most frequents words used for each label is are displayed in the word cloud based on different label and also when all the values are present"
   ]
  },
  {
   "cell_type": "code",
   "execution_count": null,
   "id": "63f90037",
   "metadata": {},
   "outputs": [],
   "source": [
    "df['length'] = df.comment_text.str.len()\n",
    "df['clean_length'] = df.comment_textnew.str.len()\n",
    "df.head()"
   ]
  },
  {
   "cell_type": "markdown",
   "id": "81333ab3",
   "metadata": {},
   "source": [
    "Comparing the length of comments after removing the stopwords"
   ]
  },
  {
   "cell_type": "code",
   "execution_count": null,
   "id": "d1fead90",
   "metadata": {},
   "outputs": [],
   "source": [
    "df1 = df[:80000]"
   ]
  },
  {
   "cell_type": "markdown",
   "id": "93e03774",
   "metadata": {},
   "source": [
    "# Model Building"
   ]
  },
  {
   "cell_type": "code",
   "execution_count": null,
   "id": "fd2650ce",
   "metadata": {},
   "outputs": [],
   "source": [
    "tfidf = TfidfVectorizer()\n",
    "features = tfidf.fit_transform(df1['comment_textnew'])"
   ]
  },
  {
   "cell_type": "code",
   "execution_count": null,
   "id": "69dc134e",
   "metadata": {},
   "outputs": [],
   "source": [
    "y = df1[['malignant', 'highly_malignant', 'rude', 'threat',\n",
    "       'abuse', 'loathe']]"
   ]
  },
  {
   "cell_type": "code",
   "execution_count": null,
   "id": "e0d5533e",
   "metadata": {},
   "outputs": [],
   "source": [
    "x_train,x_test,Y_train,y_test = train_test_split(features,y,test_size=0.33,random_state=42)"
   ]
  },
  {
   "cell_type": "code",
   "execution_count": null,
   "id": "8943fc81",
   "metadata": {},
   "outputs": [],
   "source": [
    "clf = OneVsRestClassifier(SVC()).fit(x_train,Y_train) "
   ]
  },
  {
   "cell_type": "code",
   "execution_count": null,
   "id": "9bdd03e2",
   "metadata": {},
   "outputs": [],
   "source": [
    "p = clf.predict(x_test)"
   ]
  },
  {
   "cell_type": "code",
   "execution_count": null,
   "id": "c0a0257b",
   "metadata": {},
   "outputs": [],
   "source": [
    "print(accuracy_score(p,y_test))"
   ]
  },
  {
   "cell_type": "code",
   "execution_count": null,
   "id": "20ab9b69",
   "metadata": {},
   "outputs": [],
   "source": [
    "print(classification_report(p,y_test))"
   ]
  },
  {
   "cell_type": "code",
   "execution_count": null,
   "id": "09d4b751",
   "metadata": {},
   "outputs": [],
   "source": [
    "from sklearn.metrics import hamming_loss"
   ]
  },
  {
   "cell_type": "code",
   "execution_count": null,
   "id": "bd72e4d0",
   "metadata": {},
   "outputs": [],
   "source": [
    "print(\"Hamming_loss:\", hamming_loss(y_test,p))"
   ]
  },
  {
   "cell_type": "code",
   "execution_count": null,
   "id": "d8dc9aeb",
   "metadata": {},
   "outputs": [],
   "source": [
    "from sklearn.metrics import multilabel_confusion_matrix"
   ]
  },
  {
   "cell_type": "code",
   "execution_count": null,
   "id": "043a467a",
   "metadata": {},
   "outputs": [],
   "source": [
    "multilabel_confusion_matrix(y_test,p)"
   ]
  },
  {
   "cell_type": "code",
   "execution_count": null,
   "id": "7c5111ed",
   "metadata": {},
   "outputs": [],
   "source": [
    "from sklearn.ensemble import RandomForestClassifier\n",
    "from sklearn.neighbors import KNeighborsClassifier\n",
    "from sklearn.tree import DecisionTreeClassifier"
   ]
  },
  {
   "cell_type": "code",
   "execution_count": null,
   "id": "025590d6",
   "metadata": {},
   "outputs": [],
   "source": [
    "clfd = OneVsRestClassifier(DecisionTreeClassifier()).fit(x_train,Y_train)"
   ]
  },
  {
   "cell_type": "code",
   "execution_count": null,
   "id": "1b4fd335",
   "metadata": {},
   "outputs": [],
   "source": [
    "p1 = clfd.predict(x_test)\n",
    "print(\"Accuracy score\",accuracy_score(p1,y_test))\n",
    "print(\"Hamming_loss:\", hamming_loss(y_test,p1))"
   ]
  },
  {
   "cell_type": "code",
   "execution_count": null,
   "id": "a4d9f0bf",
   "metadata": {},
   "outputs": [],
   "source": [
    "clfk = OneVsRestClassifier(KNeighborsClassifier()).fit(x_train,Y_train)\n",
    "p2 = clfk.predict(x_test)\n",
    "print(\"Accuracy score\",accuracy_score(p2,y_test))\n",
    "print(\"Hamming_loss:\", hamming_loss(y_test,p2))"
   ]
  },
  {
   "cell_type": "markdown",
   "id": "b53bd55c",
   "metadata": {},
   "source": [
    "Accuracy scores of different algorithms :\n",
    "\n",
    "\n",
    " - SVC : 91.06 \n",
    " \n",
    " - DecisionTree : 87.25 \n",
    "  \n",
    " - KNN : 88.73"
   ]
  },
  {
   "cell_type": "markdown",
   "id": "ef72160d",
   "metadata": {},
   "source": [
    "# Binary relevance"
   ]
  },
  {
   "cell_type": "code",
   "execution_count": null,
   "id": "d7fdb1ed",
   "metadata": {},
   "outputs": [],
   "source": [
    "from skmultilearn.problem_transform import BinaryRelevance\n",
    "from sklearn.naive_bayes import GaussianNB"
   ]
  },
  {
   "cell_type": "code",
   "execution_count": null,
   "id": "61f05060",
   "metadata": {},
   "outputs": [],
   "source": [
    "classifier = BinaryRelevance(GaussianNB())\n",
    "classifier.fit(x_train, Y_train)\n",
    "predictions = classifier.predict(x_test)\n",
    "\n",
    "\n",
    "print(\"Accuracy = \",accuracy_score(y_test,predictions))"
   ]
  },
  {
   "cell_type": "markdown",
   "id": "0542f02f",
   "metadata": {},
   "source": [
    "# Label Powerset"
   ]
  },
  {
   "cell_type": "code",
   "execution_count": null,
   "id": "c2acd374",
   "metadata": {},
   "outputs": [],
   "source": [
    "from skmultilearn.problem_transform import LabelPowerset\n",
    "from sklearn.linear_model import LogisticRegression\n",
    "\n",
    "\n",
    "classifier = LabelPowerset(LogisticRegression())\n",
    "classifier.fit(x_train, Y_train)\n",
    "predictions = classifier.predict(x_test)\n",
    "print(\"Accuracy = \",accuracy_score(y_test,predictions))"
   ]
  },
  {
   "cell_type": "code",
   "execution_count": null,
   "id": "f5fa4ed7",
   "metadata": {},
   "outputs": [],
   "source": [
    "from sklearn.ensemble import GradientBoostingClassifier\n",
    "from sklearn.ensemble import AdaBoostClassifier"
   ]
  },
  {
   "cell_type": "markdown",
   "id": "a3344eec",
   "metadata": {},
   "source": [
    "# Ensembe Techniques"
   ]
  },
  {
   "cell_type": "code",
   "execution_count": null,
   "id": "07f7da3b",
   "metadata": {},
   "outputs": [],
   "source": [
    "rf_classifier = RandomForestClassifier(n_estimators=100)\n",
    "clfrf = OneVsRestClassifier(rf_classifier).fit(x_train,Y_train)\n",
    "prf = clfrf.predict(x_test)\n",
    "print(\"Accuracy score\",accuracy_score(prf,y_test))\n",
    "print(\"Hamming_loss:\", hamming_loss(y_test,prf))"
   ]
  },
  {
   "cell_type": "code",
   "execution_count": null,
   "id": "6cdd051b",
   "metadata": {},
   "outputs": [],
   "source": [
    "grd_boost = GradientBoostingClassifier(n_estimators=100,random_state=0)"
   ]
  },
  {
   "cell_type": "code",
   "execution_count": null,
   "id": "53f43563",
   "metadata": {},
   "outputs": [],
   "source": [
    "clfgrd = OneVsRestClassifier(grd_boost).fit(x_train,Y_train)\n",
    "pgrd = clfgrd.predict(x_test)\n",
    "print(\"Accuracy score\",accuracy_score(pgrd,y_test))\n",
    "print(\"Hamming_loss:\", hamming_loss(y_test,pgrd))"
   ]
  },
  {
   "cell_type": "code",
   "execution_count": null,
   "id": "5b373167",
   "metadata": {},
   "outputs": [],
   "source": [
    "ada_boost = AdaBoostClassifier(n_estimators=100,random_state=0)"
   ]
  },
  {
   "cell_type": "code",
   "execution_count": null,
   "id": "cc93d274",
   "metadata": {},
   "outputs": [],
   "source": [
    "clfada = OneVsRestClassifier(ada_boost).fit(x_train,Y_train)\n",
    "pada = clfada.predict(x_test)\n",
    "print(\"Accuracy score\",accuracy_score(pada,y_test))\n",
    "print(\"Hamming_loss:\", hamming_loss(y_test,pada))"
   ]
  },
  {
   "cell_type": "markdown",
   "id": "ddb0a6d1",
   "metadata": {},
   "source": [
    "#### Each ensemble technique is giving almost same accuracy score"
   ]
  },
  {
   "cell_type": "code",
   "execution_count": null,
   "id": "96d3d308",
   "metadata": {},
   "outputs": [],
   "source": [
    "df2 = df[80000:]   #building model for other half of model"
   ]
  },
  {
   "cell_type": "code",
   "execution_count": null,
   "id": "aec654b8",
   "metadata": {},
   "outputs": [],
   "source": [
    "tfidf = TfidfVectorizer()\n",
    "features2 = tfidf.fit_transform(df2['comment_text'])"
   ]
  },
  {
   "cell_type": "code",
   "execution_count": null,
   "id": "c1dcd5df",
   "metadata": {},
   "outputs": [],
   "source": [
    "y = df2[['malignant', 'highly_malignant', 'rude', 'threat',\n",
    "       'abuse', 'loathe']]"
   ]
  },
  {
   "cell_type": "code",
   "execution_count": null,
   "id": "2ae43419",
   "metadata": {},
   "outputs": [],
   "source": [
    "x_train,x_test,Y_train,y_test = train_test_split(features2,y,test_size=0.33,random_state=42)"
   ]
  },
  {
   "cell_type": "code",
   "execution_count": null,
   "id": "5c77d889",
   "metadata": {},
   "outputs": [],
   "source": [
    "clf = OneVsRestClassifier(SVC()).fit(x_train,Y_train)"
   ]
  },
  {
   "cell_type": "code",
   "execution_count": null,
   "id": "bc0e12ae",
   "metadata": {},
   "outputs": [],
   "source": [
    "p = clf.predict(x_test)\n",
    "print(\"accuracy score:\",accuracy_score(p,y_test))\n",
    "print(classification_report(p,y_test))\n",
    "print(\"Hamming_loss:\", hamming_loss(y_test,p))"
   ]
  },
  {
   "cell_type": "code",
   "execution_count": null,
   "id": "142c1495",
   "metadata": {},
   "outputs": [],
   "source": [
    "import pickle"
   ]
  },
  {
   "cell_type": "code",
   "execution_count": null,
   "id": "bbcd1318",
   "metadata": {},
   "outputs": [],
   "source": [
    "malignant_comments = 'comments.pkl'\n",
    "pickle.dump(clf,open(malignant_comments,'wb'))"
   ]
  },
  {
   "cell_type": "markdown",
   "id": "8e3ea3cc",
   "metadata": {},
   "source": [
    "# Importing test data"
   ]
  },
  {
   "cell_type": "code",
   "execution_count": null,
   "id": "66531b23",
   "metadata": {},
   "outputs": [],
   "source": [
    "dftest = pd.read_csv('testmalig.csv')"
   ]
  },
  {
   "cell_type": "code",
   "execution_count": null,
   "id": "2c415a52",
   "metadata": {},
   "outputs": [],
   "source": [
    "dftest.head()"
   ]
  },
  {
   "cell_type": "code",
   "execution_count": null,
   "id": "6a740fd2",
   "metadata": {},
   "outputs": [],
   "source": [
    "print(dftest.isnull().sum())"
   ]
  },
  {
   "cell_type": "code",
   "execution_count": null,
   "id": "3bf3eb96",
   "metadata": {},
   "outputs": [],
   "source": [
    "dfn = df1.append(dftest)   #combining training and testing data before preprocessing"
   ]
  },
  {
   "cell_type": "code",
   "execution_count": null,
   "id": "094cd8df",
   "metadata": {},
   "outputs": [],
   "source": [
    "dfn['comment_textnew'] = dfn['comment_text'].apply(nfx.remove_stopwords)"
   ]
  },
  {
   "cell_type": "code",
   "execution_count": null,
   "id": "6d821717",
   "metadata": {},
   "outputs": [],
   "source": [
    "dfn['comment_textnew'] = dfn['comment_textnew'].apply(nfx.remove_punctuations)\n",
    "dfn['comment_textnew'] = dfn['comment_textnew'].apply(nfx.remove_special_characters)\n",
    "dfn['comment_textnew'] = dfn['comment_textnew'].apply(nfx.remove_phone_numbers)\n",
    "dfn['comment_textnew'] = dfn['comment_textnew'].apply(nfx.remove_urls)"
   ]
  },
  {
   "cell_type": "code",
   "execution_count": null,
   "id": "3556be47",
   "metadata": {},
   "outputs": [],
   "source": [
    "dftest['length'] = dftest.comment_text.str.len()\n",
    "dftest['clean_length'] = dftest.comment_textnew.str.len()\n",
    "dftest.head()"
   ]
  },
  {
   "cell_type": "code",
   "execution_count": null,
   "id": "05b74ce1",
   "metadata": {},
   "outputs": [],
   "source": [
    "y = dfn[['malignant', 'highly_malignant', 'rude', 'threat',\n",
    "       'abuse', 'loathe']]"
   ]
  },
  {
   "cell_type": "code",
   "execution_count": null,
   "id": "08362b12",
   "metadata": {},
   "outputs": [],
   "source": [
    "tfidf = TfidfVectorizer()\n",
    "featur = tfidf.fit_transform(dfn['comment_textnew'])"
   ]
  },
  {
   "cell_type": "code",
   "execution_count": null,
   "id": "2693a5af",
   "metadata": {},
   "outputs": [],
   "source": [
    "y1=  y[:80000]   #seperating only training data for model building"
   ]
  },
  {
   "cell_type": "code",
   "execution_count": null,
   "id": "979c1530",
   "metadata": {},
   "outputs": [],
   "source": [
    "f = featur[:80000]   #seperating features for buiding the model"
   ]
  },
  {
   "cell_type": "code",
   "execution_count": null,
   "id": "607be1a6",
   "metadata": {},
   "outputs": [],
   "source": [
    "x_train,x_test,Y_train,y_test = train_test_split(f,y1,test_size=0.33,random_state=42)"
   ]
  },
  {
   "cell_type": "code",
   "execution_count": null,
   "id": "02046854",
   "metadata": {},
   "outputs": [],
   "source": [
    "clf = OneVsRestClassifier(SVC()).fit(x_train,Y_train)   #fitting the data for training data"
   ]
  },
  {
   "cell_type": "code",
   "execution_count": null,
   "id": "f4cdd877",
   "metadata": {},
   "outputs": [],
   "source": [
    "pred_test = clf.predict(featur[80001:])   #predicting data for test dataset"
   ]
  },
  {
   "cell_type": "code",
   "execution_count": null,
   "id": "81c37c31",
   "metadata": {},
   "outputs": [],
   "source": [
    "pdtest = pd.DataFrame(pred_test)"
   ]
  },
  {
   "cell_type": "code",
   "execution_count": null,
   "id": "8ec0a48d",
   "metadata": {},
   "outputs": [],
   "source": [
    "pdtest.head()"
   ]
  },
  {
   "cell_type": "code",
   "execution_count": null,
   "id": "ad775fcf",
   "metadata": {},
   "outputs": [],
   "source": []
  },
  {
   "cell_type": "code",
   "execution_count": null,
   "id": "34751e32",
   "metadata": {},
   "outputs": [],
   "source": []
  }
 ],
 "metadata": {
  "kernelspec": {
   "display_name": "Python 3",
   "language": "python",
   "name": "python3"
  },
  "language_info": {
   "codemirror_mode": {
    "name": "ipython",
    "version": 3
   },
   "file_extension": ".py",
   "mimetype": "text/x-python",
   "name": "python",
   "nbconvert_exporter": "python",
   "pygments_lexer": "ipython3",
   "version": "3.8.8"
  }
 },
 "nbformat": 4,
 "nbformat_minor": 5
}
